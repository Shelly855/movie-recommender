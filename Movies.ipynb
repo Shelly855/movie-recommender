{
 "cells": [
  {
   "cell_type": "code",
   "execution_count": 4,
   "id": "cf31d505-a513-49b9-9bc8-2fba4650bb49",
   "metadata": {},
   "outputs": [],
   "source": [
    "import pandas as pd\n",
    "from sklearn.tree import DecisionTreeClassifier\n",
    "\n",
    "# Import dataset\n",
    "movie_data = pd.read_csv('movie.csv')\n",
    "\n",
    "X = movie_data.drop(columns=['genre'])\n",
    "y = movie_data['genre']"
   ]
  },
  {
   "cell_type": "code",
   "execution_count": null,
   "id": "ea4f8383-a283-4994-bbbb-6f3df49dbbaf",
   "metadata": {},
   "outputs": [],
   "source": []
  }
 ],
 "metadata": {
  "kernelspec": {
   "display_name": "Python [conda env:base] *",
   "language": "python",
   "name": "conda-base-py"
  },
  "language_info": {
   "codemirror_mode": {
    "name": "ipython",
    "version": 3
   },
   "file_extension": ".py",
   "mimetype": "text/x-python",
   "name": "python",
   "nbconvert_exporter": "python",
   "pygments_lexer": "ipython3",
   "version": "3.12.7"
  }
 },
 "nbformat": 4,
 "nbformat_minor": 5
}
